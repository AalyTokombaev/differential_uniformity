{
 "cells": [
  {
   "cell_type": "code",
   "execution_count": 2,
   "id": "1c767a49",
   "metadata": {},
   "outputs": [],
   "source": [
    "with open('t.tt', 'r') as file:\n",
    "    dim, results = file.readlines()\n",
    "    \n",
    "    dim = int(dim)\n",
    "    results = list(map(int, results.strip().split()))"
   ]
  },
  {
   "cell_type": "code",
   "execution_count": 5,
   "id": "e11912c1",
   "metadata": {},
   "outputs": [],
   "source": [
    "inputs = list(range(len(results)))"
   ]
  },
  {
   "cell_type": "code",
   "execution_count": 7,
   "id": "9476639c",
   "metadata": {},
   "outputs": [
    {
     "data": {
      "text/plain": [
       "True"
      ]
     },
     "execution_count": 7,
     "metadata": {},
     "output_type": "execute_result"
    }
   ],
   "source": []
  }
 ],
 "metadata": {
  "kernelspec": {
   "display_name": "Python 3 (ipykernel)",
   "language": "python",
   "name": "python3"
  },
  "language_info": {
   "codemirror_mode": {
    "name": "ipython",
    "version": 3
   },
   "file_extension": ".py",
   "mimetype": "text/x-python",
   "name": "python",
   "nbconvert_exporter": "python",
   "pygments_lexer": "ipython3",
   "version": "3.9.12"
  }
 },
 "nbformat": 4,
 "nbformat_minor": 5
}
